version https://git-lfs.github.com/spec/v1
oid sha256:09ed31f0067a4bde37d87eb278d323754f848811b9c0c80dbf1003d6d2beb4ad
size 1027471
