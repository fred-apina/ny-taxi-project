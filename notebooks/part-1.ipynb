{
 "cells": [
  {
   "cell_type": "markdown",
   "metadata": {},
   "source": [
    "# New York Taxi Analysis Project\n",
    "**Author:** Frederick Richard Apina  \n",
    "**Date:** 2025-02-26"
   ]
  },
  {
   "cell_type": "markdown",
   "metadata": {},
   "source": []
  },
  {
   "cell_type": "markdown",
   "metadata": {},
   "source": [
    "## 1.  PROJECT OVERVIEW"
   ]
  },
  {
   "cell_type": "markdown",
   "metadata": {},
   "source": [
    "In this project, we analyze the New York City Taxi Trips dataset from [Kaggle](https://www.kaggle.com/datasets/dhrulivalave/new-york-city-taxi-trips-2019). The dataset contains detailed information on taxi rides in NYC, including:\n",
    "- Pickup and dropoff locations and times\n",
    "- Trip distances\n",
    "- Fare amounts\n",
    "- Passenger counts\n",
    "- Other trip-related features\n",
    "\n",
    "### Goals 🥅\n",
    "1. **Regression Goal**: Predict the fare amount for a given taxi trip (continuous target variable).\n",
    "2. **Classification Goal**: Categorize trips into fare ranges:\n",
    "   - Class 1: Short-distance fares (< \\$10)\n",
    "   - Class 2: Medium-distance fares (\\$10–\\$30)\n",
    "   - Class 3: Long-distance fares (\\$30–\\$60)\n",
    "   - Class 4: Premium fares (>\\$60)\n",
    "\n",
    "### Why It Matters 📣\n",
    "- **Pricing Optimization**: Understanding factors influencing fares helps optimize pricing.\n",
    "- **Fraud Detection**: Anomalies in fare amounts can indicate fraudulent activity.\n",
    "- **Traffic Pattern Analysis**: Insights into passenger count and travel times can inform city planning."
   ]
  },
  {
   "cell_type": "markdown",
   "metadata": {},
   "source": []
  },
  {
   "cell_type": "markdown",
   "metadata": {},
   "source": [
    "## 2. PROBLEM FORMULATION"
   ]
  },
  {
   "cell_type": "markdown",
   "metadata": {},
   "source": [
    "### 2.1 Problem Statement\n",
    "We want to investigate how various trip features (e.g., trip distance, pickup time, passenger count) affect the total fare amount.\n",
    "\n",
    "### 2.2 Objectives\n",
    "1. **Primary Objective**: Develop a model to predict the fare amount (regression).\n",
    "2. **Secondary Objective**: Classify rides into predefined fare ranges (classification).\n",
    "\n",
    "### 2.3 Expected Outcomes\n",
    "- A set of data-driven insights about which features most influence fare.\n",
    "- A cleaned dataset ready for further modeling and analysis.\n",
    "- Baseline regression and classification models to measure performance.\n",
    "\n",
    "### 2.4 Key Questions\n",
    "1. Which variables (distance, passenger count, time of day) are most important in determining fare?\n",
    "2. Are there noticeable patterns (e.g., peak hours, airport trips) that lead to higher fares?\n",
    "3. How can the data be best transformed or normalized for accurate predictions?"
   ]
  },
  {
   "cell_type": "markdown",
   "metadata": {},
   "source": [
    "## 3. Data Analysis & Cleansing"
   ]
  },
  {
   "cell_type": "markdown",
   "metadata": {},
   "source": [
    "### 3.1 Data Description & Source\n",
    "\n",
    "**Data Source**: [Kaggle: New York City Taxi Trips (2019)](https://www.kaggle.com/datasets/dhrulivalave/new-york-city-taxi-trips-2019)\n",
    "\n",
    "**Dataset Columns** (Typical):\n",
    "- `vendorid`\n",
    "- `tpep_pickup_datetime`\n",
    "- `tpep_dropoff_datetime`\n",
    "- `passenger_count`\n",
    "- `trip_distance`\n",
    "- `ratecodeid`\n",
    "- `store_and_fwd_flag`\n",
    "- `pulocationid`\n",
    "- `dolocationid`\n",
    "- `payment_type`\n",
    "- `fare_amount`\n",
    "- `extra`\n",
    "- `mta_tax`\n",
    "- `tip_amount`\n",
    "- `tolls_amount`\n",
    "- `improvement_surcharge`\n",
    "- `total_amount`\n",
    "- `congestion_surcharge`\n",
    "(Columns may vary depending on the version of the dataset.)\n",
    "\n",
    "**Size & Format**:\n",
    "- Approx. X million rows (depending on the subset used).\n",
    "- SQL file with columns for each trip feature."
   ]
  },
  {
   "cell_type": "markdown",
   "metadata": {},
   "source": [
    "#### 3.2 Data Preprocessing\n",
    "\n",
    "Here we address:\n",
    "1. **Importing Libraries & Dataset**\n",
    "2. **Handling Missing Values**\n",
    "3. **Removing/Imputing Outliers**\n",
    "4. **Correcting Data Types** (e.g., `pickup_datetime` to datetime)\n",
    "5. **Normalizing/Standardizing** variables\n",
    "6. **Encoding Categorical Features** (e.g., `payment_type`)"
   ]
  },
  {
   "cell_type": "code",
   "execution_count": null,
   "metadata": {},
   "outputs": [],
   "source": [
    "import sys\n",
    "import pickle\n",
    "\n",
    "sys.path.append('../')\n",
    "from scripts.data_processor import DataManipulator, DataNormalizer, DataCleaner\n",
    "from scripts.data_visualizer import EDA, DataVisualizer\n",
    "from scripts.feature_analyzer import FeatureAnalysisAndGenerator"
   ]
  },
  {
   "cell_type": "code",
   "execution_count": null,
   "metadata": {},
   "outputs": [],
   "source": [
    "data_loader = DataManipulator(filename='../data/2019/2019-01.sqlite', labels_test='fare_amount')\n",
    "data_loader.data_train.head()"
   ]
  },
  {
   "cell_type": "code",
   "execution_count": null,
   "metadata": {},
   "outputs": [],
   "source": [
    "print(\"Before data cleaning\")\n",
    "print(\"Training data shape:\", data_loader.data_train.shape)\n",
    "print(\"Training labels shape:\", data_loader.labels_train.shape)\n",
    "print(\"Testing data shape:\", data_loader.data_test.shape)\n",
    "print(\"Testing labels shape:\", data_loader.labels_test.shape)"
   ]
  },
  {
   "cell_type": "code",
   "execution_count": null,
   "metadata": {},
   "outputs": [],
   "source": [
    "# Data cleaning\n",
    "data_cleaner = DataCleaner(data_loader)\n",
    "data_cleaner.remove_duplicates()\n",
    "data_cleaner.handle_missing_values()\n",
    "data_cleaner.remove_outliers()"
   ]
  },
  {
   "cell_type": "code",
   "execution_count": null,
   "metadata": {},
   "outputs": [],
   "source": [
    "print(\"After data preprocessing\")\n",
    "print(\"Training data shape:\", data_loader.data_train.shape)\n",
    "print(\"Training labels shape:\", data_loader.labels_train.shape)\n",
    "print(\"Testing data shape:\", data_loader.data_test.shape)\n",
    "print(\"Testing labels shape:\", data_loader.labels_test.shape)"
   ]
  },
  {
   "cell_type": "code",
   "execution_count": null,
   "metadata": {},
   "outputs": [],
   "source": [
    "data_loader.data_train.store_and_fwd_flag.unique()"
   ]
  },
  {
   "cell_type": "code",
   "execution_count": null,
   "metadata": {},
   "outputs": [],
   "source": [
    "data_loader.data_train.mta_tax.unique()"
   ]
  },
  {
   "cell_type": "code",
   "execution_count": null,
   "metadata": {},
   "outputs": [],
   "source": [
    "data_loader.data_train.improvement_surcharge.unique()"
   ]
  },
  {
   "cell_type": "code",
   "execution_count": null,
   "metadata": {},
   "outputs": [],
   "source": [
    "# Drop store_and_fwd_flag, improvement_surcharge and mta_tax columns beacause they have only one unique value after data cleaning\n",
    "data_loader.data_train.drop(['store_and_fwd_flag', 'mta_tax', 'improvement_surcharge'], axis=1, inplace=True)"
   ]
  },
  {
   "cell_type": "code",
   "execution_count": null,
   "metadata": {},
   "outputs": [],
   "source": [
    "# Define categorical and numerical features\n",
    "categorical_features = ['vendorid', 'ratecodeid', 'payment_type', 'pulocationid', 'dolocationid']\n",
    "numerical_features = data_loader.data_train.columns.difference(categorical_features).tolist()"
   ]
  },
  {
   "cell_type": "code",
   "execution_count": null,
   "metadata": {},
   "outputs": [],
   "source": [
    "# Normalizing the data\n",
    "data_normalizer = DataNormalizer(data_loader, categorical_features, numerical_features)\n",
    "data_normalizer.normalize_features()\n",
    "data_normalizer.data_loader.data_train.head()"
   ]
  },
  {
   "cell_type": "code",
   "execution_count": null,
   "metadata": {},
   "outputs": [],
   "source": [
    "with open('../data/processed/data_loader.pkl', 'wb') as f:\n",
    "    pickle.dump(data_loader, f)"
   ]
  },
  {
   "cell_type": "markdown",
   "metadata": {},
   "source": [
    "## 4. Exploratory Data Analysis (EDA)\n",
    "**Goals**:\n",
    "- Understand data distribution and relationships\n",
    "- Identify key patterns\n",
    "- Use descriptive statistics, histograms, boxplots, correlation matrices\n",
    "- Attempt dimension reduction (PCA, UMAP) to visualize patterns"
   ]
  },
  {
   "cell_type": "code",
   "execution_count": null,
   "metadata": {},
   "outputs": [],
   "source": [
    "eda = EDA(data_loader)\n",
    "eda.perform_eda()"
   ]
  },
  {
   "cell_type": "code",
   "execution_count": null,
   "metadata": {},
   "outputs": [],
   "source": [
    "data_visualization = DataVisualizer(data_loader)\n",
    "data_visualization.perform_visualization()"
   ]
  },
  {
   "cell_type": "code",
   "execution_count": null,
   "metadata": {},
   "outputs": [],
   "source": [
    "feature_analyzer = FeatureAnalysisAndGenerator(data_loader)"
   ]
  },
  {
   "cell_type": "code",
   "execution_count": null,
   "metadata": {},
   "outputs": [],
   "source": [
    "# Perform PCA\n",
    "feature_analyzer.perform_pca(numerical_features=numerical_features)"
   ]
  },
  {
   "cell_type": "code",
   "execution_count": null,
   "metadata": {},
   "outputs": [],
   "source": [
    "# Generate new features\n",
    "feature_analyzer.generate_features()"
   ]
  },
  {
   "cell_type": "code",
   "execution_count": null,
   "metadata": {},
   "outputs": [],
   "source": [
    "# Modified data sample visualization\n",
    "data_visualization.plot_boxplot()"
   ]
  },
  {
   "cell_type": "code",
   "execution_count": null,
   "metadata": {},
   "outputs": [],
   "source": [
    "# Perform relevant feature identification\n",
    "relevant_features = feature_analyzer.relevant_feature_identification(len(data_loader.data_train.columns))"
   ]
  }
 ],
 "metadata": {
  "kernelspec": {
   "display_name": "base",
   "language": "python",
   "name": "python3"
  },
  "language_info": {
   "codemirror_mode": {
    "name": "ipython",
    "version": 3
   },
   "file_extension": ".py",
   "mimetype": "text/x-python",
   "name": "python",
   "nbconvert_exporter": "python",
   "pygments_lexer": "ipython3",
   "version": "3.11.7"
  }
 },
 "nbformat": 4,
 "nbformat_minor": 2
}
